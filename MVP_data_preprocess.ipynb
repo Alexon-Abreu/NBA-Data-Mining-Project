{
 "cells": [
  {
   "cell_type": "code",
   "execution_count": 7,
   "metadata": {},
   "outputs": [],
   "source": [
    "from BRScraper import nba\n",
    "import pandas as pd\n",
    "import numpy as np\n",
    "import matplotlib.pyplot as plt\n",
    "import seaborn as sns\n",
    "import time"
   ]
  },
  {
   "cell_type": "code",
   "execution_count": 8,
   "metadata": {},
   "outputs": [],
   "source": [
    "# Data preprocessing for ML Model\n",
    "\n",
    "df = nba.get_stats(season=2023, info='per_game', playoffs=False)\n",
    "drop_columns = ['Age','Pos', 'GS', '3PA', '2PA', 'PF', 'Awards']\n",
    "df_cleaned = df.drop(columns=drop_columns)"
   ]
  },
  {
   "cell_type": "code",
   "execution_count": 9,
   "metadata": {},
   "outputs": [
    {
     "name": "stdout",
     "output_type": "stream",
     "text": [
      "['Joel Embiid', 'Nikola Jokić', 'Giannis Antetokounmpo', 'Jayson Tatum', 'Shai Gilgeous-Alexander', 'Donovan Mitchell', 'Domantas Sabonis', 'Luka Dončić', 'Stephen Curry', 'Jimmy Butler', \"De'Aaron Fox\", 'Jalen Brunson', 'Ja Morant']\n"
     ]
    }
   ],
   "source": [
    "mvp_data = nba.get_award_votings('mvp', 2023)\n",
    "nominated_players = mvp_data['Player'].tolist()\n",
    "print(nominated_players)\n",
    "\n",
    "# creating the 'Previously_Nominated' column, if a player was nominated for MVP mark 1, else mark 0. will help serve as a proxy for player reputation\n",
    "df_cleaned['Previously_Nominated'] = df_cleaned['Player'].apply(lambda x: 1 if x in nominated_players else 0)"
   ]
  },
  {
   "cell_type": "code",
   "execution_count": 10,
   "metadata": {},
   "outputs": [],
   "source": [
    "# identifying players who have stats for multiple teams and eliminating duplicates\n",
    "multi_team_players = df_cleaned[df_cleaned['Team'] == '2TM']['Player'].unique()\n",
    "\n",
    "# keeping only the row where team value is set to 2TM, this row will include all combined stats and average from all teams the player played for\n",
    "mask = (df_cleaned['Team'] == '2TM') | (~df_cleaned['Player'].isin(multi_team_players))\n",
    "\n",
    "df_cleaned = df_cleaned[mask]"
   ]
  },
  {
   "cell_type": "code",
   "execution_count": 11,
   "metadata": {},
   "outputs": [],
   "source": [
    "# creating a True Shooting Percentage (TS%) column\n",
    "# the formula is TS% = PTS / 2 * (FGA + 0.44 * FTA)\n",
    "\n",
    "if 'PTS' in df_cleaned.columns and 'FGA' in df_cleaned.columns and 'FTA' in df_cleaned.columns:\n",
    "    df_cleaned['TS%'] = df_cleaned['PTS'] / (2 * (df_cleaned['FGA'] + 0.44 * df_cleaned['FTA']))\n",
    "    df_cleaned['TS%'] = df_cleaned['TS%'].round(2)"
   ]
  },
  {
   "cell_type": "code",
   "execution_count": 12,
   "metadata": {},
   "outputs": [],
   "source": [
    "# adding another column EEF, stands effeciency. It a metric used by the nba to calculate a player's efficiency or impact.\n",
    "\n",
    "# calculating missed field goals and missed free throws because the EEF formula requires it.\n",
    "df_cleaned['Missed_FG'] = df_cleaned['FGA'] - df_cleaned['FG']\n",
    "df_cleaned['Missed_FT'] = df_cleaned['FTA'] - df_cleaned['FT']\n",
    "\n",
    "# Calculating EFF\n",
    "df_cleaned['EFF'] = (\n",
    "    df_cleaned['PTS'] +\n",
    "    df_cleaned['TRB'] +\n",
    "    df_cleaned['AST'] +\n",
    "    df_cleaned['STL'] +\n",
    "    df_cleaned['BLK'] -\n",
    "    df_cleaned['Missed_FG'] -\n",
    "    df_cleaned['Missed_FT'] -\n",
    "    df_cleaned['TOV']\n",
    "    ) / df_cleaned['G']\n",
    "\n",
    "# dropping the temporary columns, no longer needed\n",
    "df_cleaned.drop(columns=['Missed_FG', 'Missed_FT'], inplace=True)\n",
    "\n",
    "# rounded EFF to 2 decimals\n",
    "df_cleaned['EFF'] = df_cleaned['EFF'].round(2)\n",
    "\n",
    "output_file = \"nba_2023_adjusted_data.csv\"\n",
    "df_cleaned.to_csv(output_file, index=False)"
   ]
  }
 ],
 "metadata": {
  "kernelspec": {
   "display_name": "Python 3",
   "language": "python",
   "name": "python3"
  },
  "language_info": {
   "codemirror_mode": {
    "name": "ipython",
    "version": 3
   },
   "file_extension": ".py",
   "mimetype": "text/x-python",
   "name": "python",
   "nbconvert_exporter": "python",
   "pygments_lexer": "ipython3",
   "version": "3.11.1"
  },
  "orig_nbformat": 4,
  "vscode": {
   "interpreter": {
    "hash": "aee8b7b246df8f9039afb4144a1f6fd8d2ca17a180786b69acc140d282b71a49"
   }
  }
 },
 "nbformat": 4,
 "nbformat_minor": 2
}
