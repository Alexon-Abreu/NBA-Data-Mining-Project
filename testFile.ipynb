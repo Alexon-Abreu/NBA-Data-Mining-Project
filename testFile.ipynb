{
 "cells": [
  {
   "cell_type": "code",
   "execution_count": 1,
   "metadata": {},
   "outputs": [
    {
     "name": "stdout",
     "output_type": "stream",
     "text": [
      "                    Player   Tm      2024-25      2025-26      2026-27  \\\n",
      "0            Stephen Curry  GSW  $55,761,216  $59,606,817  $62,587,158   \n",
      "1              Joel Embiid  PHI  $51,415,938  $55,224,526  $57,985,752   \n",
      "2             Nikola Jokić  DEN  $51,415,938  $55,224,526  $59,033,114   \n",
      "3             Kevin Durant  PHO  $51,179,021  $54,708,609          NaN   \n",
      "4             Bradley Beal  PHO  $50,203,930  $53,666,270  $57,128,610   \n",
      "..                     ...  ...          ...          ...          ...   \n",
      "454            Malik Fitts  IND     $555,216          NaN          NaN   \n",
      "455         Mamadi Diakite  MEM     $464,050     $464,050     $464,050   \n",
      "456           Didi Louzada  POR     $268,032     $268,032     $268,032   \n",
      "457             AJ Griffin  HOU     $250,000          NaN          NaN   \n",
      "458  Javon Freeman-Liberty  TOR     $100,000          NaN          NaN   \n",
      "\n",
      "         2027-28      2028-29 2029-30    Guaranteed  \n",
      "0            NaN          NaN     NaN  $177,955,191  \n",
      "1    $62,624,612  $67,263,472     NaN  $227,250,828  \n",
      "2    $62,841,702          NaN     NaN  $165,673,578  \n",
      "3            NaN          NaN     NaN  $105,887,630  \n",
      "4            NaN          NaN     NaN  $103,870,200  \n",
      "..           ...          ...     ...           ...  \n",
      "454          NaN          NaN     NaN      $555,216  \n",
      "455          NaN          NaN     NaN    $1,392,150  \n",
      "456     $268,032     $268,032     NaN    $1,340,160  \n",
      "457          NaN          NaN     NaN      $250,000  \n",
      "458          NaN          NaN     NaN      $100,000  \n",
      "\n",
      "[459 rows x 9 columns]\n"
     ]
    }
   ],
   "source": [
    "from BRScraper import nba\n",
    "\n",
    "df = nba.get_current_salaries(info='players')\n",
    "print(df)"
   ]
  }
 ],
 "metadata": {
  "kernelspec": {
   "display_name": "Python 3",
   "language": "python",
   "name": "python3"
  },
  "language_info": {
   "codemirror_mode": {
    "name": "ipython",
    "version": 3
   },
   "file_extension": ".py",
   "mimetype": "text/x-python",
   "name": "python",
   "nbconvert_exporter": "python",
   "pygments_lexer": "ipython3",
   "version": "3.11.1"
  },
  "orig_nbformat": 4,
  "vscode": {
   "interpreter": {
    "hash": "aee8b7b246df8f9039afb4144a1f6fd8d2ca17a180786b69acc140d282b71a49"
   }
  }
 },
 "nbformat": 4,
 "nbformat_minor": 2
}
