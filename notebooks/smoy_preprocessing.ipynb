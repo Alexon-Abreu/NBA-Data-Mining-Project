{
 "cells": [
  {
   "cell_type": "code",
   "execution_count": null,
   "metadata": {},
   "outputs": [],
   "source": [
    "# Import libraries\n",
    "import pandas as pd\n",
    "import os\n",
    "\n",
    "# Define file paths and load data\n",
    "data_path = \"../processed-data\"\n",
    "season_file = \"combined_data.csv\" # Combined dataset\n",
    "file_path = os.path.join(data_path, season_file)\n",
    "combined_data = pd.read_csv(file_path)\n",
    "combined_data # Test successful load"
   ]
  },
  {
   "cell_type": "code",
   "execution_count": null,
   "metadata": {},
   "outputs": [],
   "source": [
    "# Add SMOY Target for TOP 3 SMOY candidates\n",
    "combined_data['SMOY_Candidate'] = combined_data['Awards'].apply(lambda x: 1 if '6MOY-1' in str(x) or '6MOY-2' in str(x) or '6MOY-3' in str(x) else 0)\n",
    "\n",
    "# Display \n",
    "combined_data[['Player', 'Season', 'Awards', 'SMOY_Candidate']].head()\n"
   ]
  },
  {
   "cell_type": "code",
   "execution_count": null,
   "metadata": {},
   "outputs": [],
   "source": [
    "# Filter players who have exactly '6MOY-1' in the Awards column\n",
    "smoy_winners = combined_data[combined_data['Awards'] == '6MOY-1']\n",
    "\n",
    "# Sort by 'MP' (minutes played) and select the lowest 5\n",
    "lowest_mp_smoy_winners = smoy_winners.sort_values(by='MP')\n",
    "\n",
    "# Display relevant columns for these players\n",
    "lowest_mp_smoy_winners[['Player', 'MP', 'Awards', 'Season']]\n",
    "\n",
    "# Lowest SMOY Winner had 19.3, My cutoff will be 20 'MP', Highest SMOY Winner had 33.7, ceiling will be 35 'MP'"
   ]
  },
  {
   "cell_type": "code",
   "execution_count": null,
   "metadata": {},
   "outputs": [],
   "source": [
    "# Filter players who have '6MOY-1' in their Awards column\n",
    "smoy_players = combined_data[combined_data['Awards'].str.contains(r'6MOY-[1]\\b', na=False)]\n",
    "\n",
    "# Sort by 'G' (Games Played)\n",
    "top_g_smoy_players = smoy_players[['Player', 'G', 'GS', 'MP', 'Awards', 'Season']].sort_values(by=['G'], ascending=False)\n",
    "\n",
    "# Display the result\n",
    "top_g_smoy_players\n",
    "\n",
    "# Lowest SMOY Winner had 50, My cutoff will be 50 'G'"
   ]
  },
  {
   "cell_type": "code",
   "execution_count": null,
   "metadata": {},
   "outputs": [],
   "source": [
    "# Filter players who have '6MOY-1' in their Awards column\n",
    "smoy_players = combined_data[combined_data['Awards'].str.contains(r'6MOY-[1]\\b', na=False)]\n",
    "\n",
    "# Sort by 'GS' (Games Played)\n",
    "top_gs_smoy_players = smoy_players[['Player', 'G', 'GS', 'MP', 'Awards', 'Season']].sort_values(by=['GS'], ascending=False)\n",
    "\n",
    "# Display the result\n",
    "top_gs_smoy_players\n",
    "\n",
    "# Highest SMOY Winner had 35, My cutoff will be 40 'GS'"
   ]
  },
  {
   "cell_type": "code",
   "execution_count": null,
   "metadata": {},
   "outputs": [],
   "source": [
    "# One-Hot Encode Player Positions\n",
    "print(combined_data['Pos'].unique())\n",
    "combined_data = pd.get_dummies(combined_data, columns=['Pos'])\n",
    "# Convert True/False to 1/0\n",
    "combined_data[['Pos_C', 'Pos_PF', 'Pos_PG', 'Pos_SF', 'Pos_SG']] = combined_data[['Pos_C', 'Pos_PF', 'Pos_PG', 'Pos_SF', 'Pos_SG']].astype(int)\n",
    "print(combined_data.columns)\n",
    "combined_data.head()"
   ]
  },
  {
   "cell_type": "code",
   "execution_count": null,
   "metadata": {},
   "outputs": [],
   "source": [
    "# Add Eligibility binary, only including players that fit preliminary SMOY reqs (i.e: 20 <= MP <= 35, GS <= 40, G >= 50 )\n",
    "combined_data['SMOY_Eligible'] = combined_data.apply(\n",
    "    lambda row: 1 if (row['GS'] <= 40) and (row['MP'] >= 20) and (row['MP'] <= 35) and (row['G'] >= 50) else 0, axis=1\n",
    ")\n",
    "\n",
    "# Display players who are SMOY eligible\n",
    "eligible_players = combined_data[combined_data['SMOY_Candidate'] == 1]\n",
    "\n",
    "# Show the first few rows of the eligible players\n",
    "eligible_players[['Player', 'Season', 'GS', 'G', 'MP', 'SMOY_Eligible', 'SMOY_Candidate', 'Awards']]"
   ]
  },
  {
   "cell_type": "code",
   "execution_count": null,
   "metadata": {},
   "outputs": [],
   "source": [
    "# Code block for writing/saving processed data\n",
    "\n",
    "# Save the eligible player data to a new CSV file\n",
    "output_path = \"../processed-data/smoy_eligible_players.csv\"\n",
    "eligible_players.to_csv(output_path, index=False)\n",
    "\n",
    "# Save combined data set with new target columns\n",
    "combined_data_target_output_path = \"../processed-data/combined_data_w_target.csv\"\n",
    "combined_data.to_csv(combined_data_target_output_path, index=False)\n",
    "\n",
    "# Confirm the data has been saved\n",
    "print(f\"SMOY Eligible Player data saved to {output_path}\")\n",
    "print(f\"Combined Dataset with Target data saved to {combined_data_target_output_path}\")"
   ]
  }
 ],
 "metadata": {
  "kernelspec": {
   "display_name": "base",
   "language": "python",
   "name": "python3"
  },
  "language_info": {
   "codemirror_mode": {
    "name": "ipython",
    "version": 3
   },
   "file_extension": ".py",
   "mimetype": "text/x-python",
   "name": "python",
   "nbconvert_exporter": "python",
   "pygments_lexer": "ipython3",
   "version": "3.11.7"
  }
 },
 "nbformat": 4,
 "nbformat_minor": 2
}
