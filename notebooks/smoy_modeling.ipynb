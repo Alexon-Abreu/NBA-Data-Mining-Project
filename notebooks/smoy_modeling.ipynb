{
 "cells": [
  {
   "cell_type": "code",
   "execution_count": null,
   "metadata": {},
   "outputs": [],
   "source": [
    "# Import libraries\n",
    "import pandas as pd\n",
    "import os\n",
    "\n",
    "# Define file paths and load data\n",
    "data_path = \"../processed-data\"\n",
    "season_file = \"combined_data_w_target.csv\" # Combined dataset\n",
    "file_path = os.path.join(data_path, season_file)\n",
    "combined_data_w_target = pd.read_csv(file_path)\n",
    "combined_data_w_target # Test successful load"
   ]
  },
  {
   "cell_type": "code",
   "execution_count": null,
   "metadata": {},
   "outputs": [],
   "source": [
    "combined_data_w_target.columns"
   ]
  },
  {
   "cell_type": "code",
   "execution_count": null,
   "metadata": {},
   "outputs": [],
   "source": [
    "# Create SMOY Winner column\n",
    "combined_data_w_target['SMOY_Winner'] = combined_data_w_target['Awards'].apply(lambda x: 1 if '6MOY-1' in str(x) else 0)\n",
    "print(combined_data_w_target.columns)\n",
    "combined_data_w_target\n",
    "combined_data_w_target['SMOY_Winner'].unique()\n"
   ]
  },
  {
   "cell_type": "code",
   "execution_count": 4,
   "metadata": {},
   "outputs": [],
   "source": [
    "# features = ['Age', 'G', 'GS', 'MP', 'FG', 'FGA', 'FG%', '3P',\n",
    "#        '3PA', '3P%', '2P', '2PA', '2P%', 'eFG%', 'FT', 'FTA', 'FT%', 'TS%',\n",
    "#        'EFF', 'ORB', 'DRB', 'TRB', 'AST', 'STL', 'BLK', 'TOV', 'PF', 'PTS', 'Pos_C', 'Pos_PF', 'Pos_PG',\n",
    "#        'Pos_SF', 'Pos_SG', 'SMOY_Eligible']\n",
    "\n",
    "features = ['Age', 'G', 'GS', 'MP', 'FG', 'FGA', 'FG%', '3P',\n",
    "       '3PA', '3P%', '2P', '2PA', '2P%', 'eFG%', 'FT', 'FTA', 'FT%', 'TS%',\n",
    "       'EFF', 'ORB', 'DRB', 'TRB', 'AST', 'STL', 'BLK', 'TOV', 'PF', 'PTS']\n",
    "\n",
    "target = ['SMOY_Winner']"
   ]
  },
  {
   "cell_type": "code",
   "execution_count": null,
   "metadata": {},
   "outputs": [],
   "source": [
    "# Importing necessary libraries\n",
    "from sklearn.model_selection import train_test_split\n",
    "from sklearn.preprocessing import StandardScaler\n",
    "from sklearn.ensemble import RandomForestClassifier\n",
    "from sklearn.metrics import accuracy_score, classification_report, confusion_matrix\n",
    "from imblearn.over_sampling import SMOTE  # For oversampling\n",
    "from sklearn.model_selection import StratifiedKFold\n",
    "\n",
    "# Defining target (y) and features (X)\n",
    "X = combined_data_w_target[features]  # Remove Player, Team, Season, Award (not useful unless transformed), and candidate/winner (leakage)\n",
    "y = combined_data_w_target[target]  # Target\n",
    "\n",
    "# Data Splits\n",
    "X_train, X_test, y_train, y_test = train_test_split(X, y, test_size=0.2, random_state=42, stratify=y)  # stratify ensures balanced split\n",
    "\n",
    "# Feature Scaling\n",
    "scaler = StandardScaler()\n",
    "X_train_scaled = scaler.fit_transform(X_train)\n",
    "X_test_scaled = scaler.transform(X_test)\n",
    "\n",
    "# Handle class imbalance with SMOTE (oversampling the minority class)\n",
    "smote = SMOTE(random_state=42)\n",
    "X_train_resampled, y_train_resampled = smote.fit_resample(X_train_scaled, y_train)\n",
    "\n",
    "# Model Creation with class_weight='balanced' to handle imbalance within the RandomForest\n",
    "rfc_model = RandomForestClassifier(random_state=42, class_weight='balanced')\n",
    "\n",
    "# Fit model on resampled data\n",
    "rfc_model.fit(X_train_resampled, y_train_resampled)\n",
    "\n",
    "# Make predictions\n",
    "y_pred = rfc_model.predict(X_test_scaled)\n",
    "\n",
    "# Accuracy\n",
    "accuracy = accuracy_score(y_test, y_pred)\n",
    "print(f\"Accuracy: {accuracy}\")\n",
    "\n",
    "# Classification report (precision, recall, F1-score, etc.)\n",
    "print(\"Classification Report:\")\n",
    "print(classification_report(y_test, y_pred))\n",
    "\n",
    "# Confusion Matrix\n",
    "print(\"Confusion Matrix:\")\n",
    "print(confusion_matrix(y_test, y_pred))\n"
   ]
  },
  {
   "cell_type": "code",
   "execution_count": null,
   "metadata": {},
   "outputs": [],
   "source": [
    "# Visualize the confusion matrix\n",
    "import matplotlib.pyplot as plt\n",
    "import seaborn as sns\n",
    "import numpy as np\n",
    "\n",
    "# Confusion matrix visualization\n",
    "cm = confusion_matrix(y_test, y_pred)\n",
    "fig, ax = plt.subplots(figsize=(6, 4))\n",
    "sns.heatmap(cm, annot=True, fmt=\"d\", cmap='Blues', xticklabels=['Non-SMOY', 'SMOY Winner'], yticklabels=['Non-SMOY', 'SMOY Winner'])\n",
    "plt.title('Confusion Matrix')\n",
    "plt.xlabel('Predicted')\n",
    "plt.ylabel('True')\n",
    "plt.show()\n",
    "\n",
    "# Key Insights\n",
    "print(\"\\nKey Findings:\")\n",
    "print(\"1. High overall accuracy (98.69%) driven by the majority class (Non-SMOY).\")\n",
    "print(\"2. Low recall (0.29) and precision (0.20) for the minority class (SMOY Winner).\")\n",
    "print(\"3. Confusion matrix shows 24 false negatives (SMOY Winner misclassified) and 39 false positives (Non-SMOY misclassified).\")\n",
    "\n",
    "# Calculate and display percentage of correct predictions for the SMOY Winner class\n",
    "correct_smooy_winner = cm[1, 1]  # True positives\n",
    "total_smooy_winner = cm[1, 0] + cm[1, 1]  # Total actual SMOY Winners\n",
    "smooy_winner_accuracy = correct_smooy_winner / total_smooy_winner * 100 if total_smooy_winner > 0 else 0\n",
    "\n",
    "print(f\"\\nSMOY Winner Prediction Accuracy: {smooy_winner_accuracy:.2f}%\")"
   ]
  }
 ],
 "metadata": {
  "kernelspec": {
   "display_name": "base",
   "language": "python",
   "name": "python3"
  },
  "language_info": {
   "codemirror_mode": {
    "name": "ipython",
    "version": 3
   },
   "file_extension": ".py",
   "mimetype": "text/x-python",
   "name": "python",
   "nbconvert_exporter": "python",
   "pygments_lexer": "ipython3",
   "version": "3.11.7"
  }
 },
 "nbformat": 4,
 "nbformat_minor": 2
}
